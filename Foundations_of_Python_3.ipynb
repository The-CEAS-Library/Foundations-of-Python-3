{
  "cells": [
    {
      "cell_type": "markdown",
      "metadata": {
        "id": "8sUrEKMkGmPF"
      },
      "source": [
        "# **Objectives**\n",
        "* **Hands-on**\n",
        " * **Classes/Objects**:\n",
        "    * [OOP Terminologies](#scrollTo=DxASzjEvGmPI)\n",
        "    * [User-defined class](#scrollTo=0j-EghdBGmPL)\n",
        " * [Modules & Imports](#scrollTo=Dvva2MBgG9zg)\n",
        " * [Packages & Libraries](#scrollTo=BbbPfDIrGmPW)\n",
        " * [File I/O](#scrollTo=ct928da_GmPX)\n",
        "\n"
      ]
    },
    {
      "cell_type": "markdown",
      "source": [
        "## **Using Chat GPT-4 (or GPT-3.5) as a coding tutor when learning this workshop on your own.**\n",
        "There are several ways that GPT can help improve your self-learning process. ChatGPT can be used as a coding tutor to help:\n",
        "* Explain new concepts in other words. Ask it to give basic, intermediate, or advanced explanations of coding concepts depending on your familiarity and comfort level.\n",
        "* Guide you through the exercises and explain the logic and code. If you get stuck with the exercises, you can ask GPT to give you a step-by-step guide to the exercise so you better understand the learning objectives. For best results, be very specific with ChatGPT so it has the necessary context to best help you.\n",
        "* Give you more exercises. If you aren't sure you understand a concept and want to test your knowledge, ask ChatGPT to give additional exercises to help test your abilities and understanding. They can be coding problems, multiple choice, fill in the blank, or whatever will work best for your learning style. Be creative and get the support you want.  \n",
        "\n",
        "The AI has infinite patience, so ask as many questions as you want!\n",
        "\n",
        "### **The Fruit Emojis**\n",
        "\n",
        "As you go through this workshop, you will notice **Fruit Emojis** embedded throughout. They accompany bolded terms that are the fundamental concepts that python programming is built upon. The key thing here is **if you see an emoji, consider asking ChatGPT about the bolded concept**. For fun, we have gamified this by thinking of the emojis as fruits you can collect while going through the 'Python 3' garden.\n",
        "  - To collect all the fruits, you should follow the workshop section by section and add your found fruit (new coding concept) to the end of the following prompt and take it to ChatGPT:\n",
        "\n",
        " `You are going to take on the role of an excellent python coding tutor. I'm a beginner learning to program in python. In simple terms, please give me an overview and explanation of the following concept:  `\n",
        "\n",
        "  - You can add more surrounding components to the prompts to make it more clear. For example, maybe you know another language and want ChatGPT to compare how the concept works in R or C++ to help you better understand.\n",
        "\n",
        "### Disclaimer\n",
        "\n",
        "\"ChatGPT may produce inaccurate information about people, places, or facts.\" -OpenAI\n",
        "\n",
        "\n",
        "\n",
        "*   Outputs may be inaccurate, untruthful, and otherwise misleading.\n",
        "*   ChatGPT is not connected to the internet. (although this feature is now available with ChatGPT Plus as a beta feature)\n",
        "*   It has limited knowledge of world and events after September 2021.\n",
        "*   It may produce biased content.\n",
        "*   It will not cite sources.\n",
        "\n",
        "Always use caution when interacting with LLM AI systems. Despite the large bounds in progress and capability, they are still in early versions and teams of people are working to fix short comings and mistakes each and every day. Despite how useful they can be as coding tutors, it is important to remember that their outputs should be met with a healthy amount of skepticism."
      ],
      "metadata": {
        "id": "oTjtCRhkNQi_"
      }
    },
    {
      "cell_type": "markdown",
      "metadata": {
        "id": "DxASzjEvGmPI"
      },
      "source": [
        "## **Classes and Objects**\n",
        "### **OOP Terminologies**\n",
        "Python supports object-oriented programming (OOP). Some OOP terminologies include;\n",
        "#### 🥝**Class**\n",
        "* Prototype for objects that defines a set of attributes that characterize any object of the class.\n",
        "* There are two types of classes. **System Defined** and **User Defined** classes\n",
        "* Example of a system defined class is the **'str'** class for string literals\n",
        "\n",
        "#### 🥥**Object**\n",
        "* Unique instance of a class\n",
        "* It comprises both data members and methods as defined by its class\n",
        "\n"
      ]
    },
    {
      "cell_type": "code",
      "execution_count": null,
      "metadata": {
        "id": "-Vg4AKwDGmPJ"
      },
      "outputs": [],
      "source": [
        "var = 'This is a string object'"
      ]
    },
    {
      "cell_type": "markdown",
      "metadata": {
        "id": "44gRCbm6GmPK"
      },
      "source": [
        "* **'var'** is an object of String class\n",
        "\n",
        "#### 🍇**Instantiation**\n",
        "* The creation of an object (instance of a class)\n",
        "\n",
        "#### **🍈Attributes**\n",
        "* Data members and methods, accessed via dot notation\n",
        "\n",
        "#### **🍊Data member**\n",
        "* Holds data associated with a class and its objects\n",
        "* May be a class variable or instance variable\n",
        "\n",
        "#### 🍋**Class variable**\n",
        "* Shared with all instances of a class\n",
        "* Defined within a class but outside any of the class's methods\n",
        "\n",
        "#### 🍍**Instance variable**\n",
        "* Defined inside a method and belongs only to the current instance/object\n",
        "\n",
        "#### 🥭**Method**\n",
        "* A special kind of function that is defined in a class definition\n",
        "---\n"
      ]
    },
    {
      "cell_type": "code",
      "execution_count": null,
      "metadata": {
        "id": "ZBzzuGskGmPL"
      },
      "outputs": [],
      "source": [
        "# A String Class Method\n",
        "var.upper()"
      ]
    },
    {
      "cell_type": "markdown",
      "metadata": {
        "id": "0j-EghdBGmPL"
      },
      "source": [
        "### **Defining a User-defined class**\n",
        "* To create a class, it begins with keyword **'class'** followed by the class name\n",
        "\n",
        "  **class ClassName:**\n",
        "\n",
        "  $\\;\\;\\;\\;\\;\\;$**class variables**\n",
        "\n",
        "  $\\;\\;\\;\\;\\;\\;$**def \\_\\_init\\_\\_(self,class_parameter[s]) :**\n",
        "\n",
        "  $\\;\\;\\;\\;\\;\\;\\;\\;\\;\\;\\;\\;$**self.instance_variables[s] = class_parameter[s]**\n",
        "\n",
        "  $\\;\\;\\;\\;\\;\\;\\;\\;\\;\\;\\;\\;$**\\_\\_init\\_\\_ method statements**\n",
        "\n",
        "   $\\;\\;\\;\\;\\;\\;$**def method_1(self,method_parameter[s]) :**\n",
        "\n",
        "  $\\;\\;\\;\\;\\;\\;\\;\\;\\;\\;\\;\\;$**method_1 statements**\n",
        "\n",
        "  $\\;\\;\\;\\;\\;\\;$**def method_2(self,method_parameter[s]) :**\n",
        "\n",
        "  $\\;\\;\\;\\;\\;\\;\\;\\;\\;\\;\\;\\;$**method_2 statements**\n",
        "\n",
        "\n",
        "  \n",
        "* By convention class names begin with an initial caps\n",
        "* Includes a special 🍎**intial method** `__init__( )`<br>\n",
        "  (**NB**: **'\\_\\_'** is double underscore)\n",
        "  Python calls this method when you create a new instance of this class\n",
        "* **`__init__( )`** can include optional parameters that might be required at initialization of the class\n",
        "* Class body has statements that define attributes (data and methods)\n",
        "* All other class methods are normal functions except the **first compulsory** argument to each method is **'self'**\n",
        "* See example below"
      ]
    },
    {
      "cell_type": "code",
      "execution_count": null,
      "metadata": {
        "id": "khWdCt8uGmPM"
      },
      "outputs": [],
      "source": [
        "class Employee:\n",
        "    # A class variable\n",
        "    empCount = 0\n",
        "\n",
        "    # The initial method. Notice the compulsory self argument\n",
        "    def __init__(self, name, salary):\n",
        "        self.new_name = name  # First instance variable\n",
        "        self.new_salary = salary # Second instance variable\n",
        "        Employee.empCount += 1 # Notice how class variables are referenced\n",
        "\n",
        "    # First method. Notice the compulsory self argument\n",
        "    def displayCount(self):\n",
        "        print (\"This is Employee # \", Employee.empCount)\n",
        "\n",
        "    # Second method. Notice the compulsory self argument\n",
        "    def displayEmployee(self, increment):\n",
        "        print (\"Name : \", self.new_name, \", Salary: \", self.new_salary, \", Next year Salary: \",  self.new_salary+increment)"
      ]
    },
    {
      "cell_type": "markdown",
      "metadata": {
        "id": "GDwlljDpGmPN"
      },
      "source": [
        "**Creating an Object of class Employee**"
      ]
    },
    {
      "cell_type": "code",
      "execution_count": null,
      "metadata": {
        "id": "tp70SZMyGmPN"
      },
      "outputs": [],
      "source": [
        "emp1 = Employee(\"Zara\", 2000)"
      ]
    },
    {
      "cell_type": "markdown",
      "metadata": {
        "id": "ZKwRJJV2GmPO"
      },
      "source": [
        "**Calling a method**"
      ]
    },
    {
      "cell_type": "code",
      "execution_count": null,
      "metadata": {
        "id": "u77GsDNSGmPO"
      },
      "outputs": [],
      "source": [
        "emp1.displayCount()"
      ]
    },
    {
      "cell_type": "markdown",
      "metadata": {
        "id": "rCBFxfQFGmPP"
      },
      "source": [
        "**Creating another object**"
      ]
    },
    {
      "cell_type": "code",
      "execution_count": null,
      "metadata": {
        "id": "KoDTipm1GmPP"
      },
      "outputs": [],
      "source": [
        "emp2 = Employee(\"John\", 5000)"
      ]
    },
    {
      "cell_type": "markdown",
      "metadata": {
        "id": "s4bqJfUcGmPP"
      },
      "source": [
        "**Calling another method**"
      ]
    },
    {
      "cell_type": "code",
      "execution_count": null,
      "metadata": {
        "id": "DUsFcyHQGmPQ"
      },
      "outputs": [],
      "source": [
        "emp2.displayEmployee(200)"
      ]
    },
    {
      "cell_type": "markdown",
      "metadata": {
        "id": "C2TrN9DfGmPQ"
      },
      "source": [
        "**A class variable**"
      ]
    },
    {
      "cell_type": "code",
      "execution_count": null,
      "metadata": {
        "id": "sCPzmFziGmPR"
      },
      "outputs": [],
      "source": [
        "Employee.empCount"
      ]
    },
    {
      "cell_type": "markdown",
      "metadata": {
        "id": "22fJVl4FGmPR"
      },
      "source": [
        "**An instance variable**"
      ]
    },
    {
      "cell_type": "code",
      "execution_count": null,
      "metadata": {
        "id": "YRmv1xoDGmPR"
      },
      "outputs": [],
      "source": [
        "emp1.new_name"
      ]
    },
    {
      "cell_type": "code",
      "execution_count": null,
      "metadata": {
        "id": "9YzKAZLIGmPR"
      },
      "outputs": [],
      "source": [
        "print(\"Total number of Employees: \", Employee.empCount)\n",
        "print(\"Name of second employee: \", emp2.new_name)"
      ]
    },
    {
      "cell_type": "markdown",
      "metadata": {
        "id": "Dvva2MBgG9zg"
      },
      "source": [
        "## **Modules and Imports**\n",
        "* A module is a file that contains definitions - including functions, variables and classes - that you can use once it is imported\n",
        "* A module can also include executable code\n",
        "* Two types of modules\n",
        " * **System-defined** - Built-in modules like **'random'** located in **'random.py'** file\n",
        " * **User-defined** - Put all the related codes and definitions in a single file and save with a **'.py'** extension"
      ]
    },
    {
      "cell_type": "markdown",
      "metadata": {
        "id": "g-S0pJujGmPS"
      },
      "source": [
        "### **Creating a 🍑User-defined Module**\n",
        "To create a module called **'support'**\n",
        "* Open an empty script\n",
        "* Write the code and definitions. Use example below\n",
        "  ```\n",
        "  pressure = 103.9\n",
        "  def addition(x , y):\n",
        "    return x + y\n",
        "  def subtraction(x , y):\n",
        "    return x - y\n",
        "  ```\n",
        "  \n",
        "* Save script as **'support.py'**\n",
        "\n"
      ]
    },
    {
      "cell_type": "markdown",
      "metadata": {
        "id": "P_hn2DCfHDUX"
      },
      "source": [
        "### 🍒**Importing Modules**\n",
        "Use **`import`** statement to load a file into a program's memory\n",
        "\n",
        "#### **Generic or regular import**\n",
        "Import the whole module(s)\n",
        "\n",
        "*Syntax*:\n",
        "<br>\n",
        "**`import module_1 ,module_2 ,...module_N`**\n",
        "\n",
        "*Usage*:"
      ]
    },
    {
      "cell_type": "code",
      "execution_count": null,
      "metadata": {
        "id": "EVlsyc3EGmPS"
      },
      "outputs": [],
      "source": [
        "import support, math, random\n",
        "\n",
        "print(support.pressure)\n",
        "v = support.addition(2,3)\n",
        "print(v)"
      ]
    },
    {
      "cell_type": "markdown",
      "metadata": {
        "id": "j8WvqeUfGmPS"
      },
      "source": [
        "#### **Generic import with alias**\n",
        "*Syntax*:\n",
        "<br>\n",
        "**`import module_1 as m_1, module_2 as m_2, ...module_N as m_N`**\n",
        "\n",
        "*Usage*:"
      ]
    },
    {
      "cell_type": "code",
      "execution_count": null,
      "metadata": {
        "id": "yFzB-yB3GmPT"
      },
      "outputs": [],
      "source": [
        "import math as m, support as s\n",
        "v = s.addition(2,3)\n",
        "print(v)"
      ]
    },
    {
      "cell_type": "markdown",
      "metadata": {
        "id": "mwDan8MmGmPT"
      },
      "source": [
        "#### **Specific items import**\n",
        "Import only specific items from module\n",
        "\n",
        "*Syntax*:\n",
        "<br>\n",
        "**`from module_name import item_1, item_2, ...item_N`**\n",
        "\n",
        "*Usage*:"
      ]
    },
    {
      "cell_type": "code",
      "execution_count": null,
      "metadata": {
        "id": "JkCVGKDPGmPT"
      },
      "outputs": [],
      "source": [
        "from support import addition\n",
        "v = addition(2,3)\n",
        "print(v)"
      ]
    },
    {
      "cell_type": "markdown",
      "metadata": {
        "id": "5h0a4OfEGmPT"
      },
      "source": [
        "#### **Universal import**\n",
        "Import all items in a module individually\n",
        "\n",
        "*Syntax*:\n",
        "<br>\n",
        "**`from module_name import *`**\n",
        "\n",
        "*Usage*:"
      ]
    },
    {
      "cell_type": "code",
      "execution_count": null,
      "metadata": {
        "id": "gdGCevsjGmPT"
      },
      "outputs": [],
      "source": [
        "from support import *\n",
        "v = addition(2,3)\n",
        "u = subtraction(2,3)\n",
        "print(u)\n",
        "print(v)"
      ]
    },
    {
      "cell_type": "markdown",
      "metadata": {
        "id": "gfSYkperGmPT"
      },
      "source": [
        "### **More on Modules**\n",
        "* **`dir (module_name)`** returns a sorted list of strings with names of items in a module\n",
        "* **`help (module_name)`** find out more about a module's contents"
      ]
    },
    {
      "cell_type": "code",
      "execution_count": null,
      "metadata": {
        "id": "_f2P3_i9GmPU"
      },
      "outputs": [],
      "source": [
        "import math\n",
        "content = dir(math)"
      ]
    },
    {
      "cell_type": "code",
      "execution_count": null,
      "metadata": {
        "id": "XdnupQ4pGmPU",
        "scrolled": true
      },
      "outputs": [],
      "source": [
        "print(content)"
      ]
    },
    {
      "cell_type": "code",
      "execution_count": null,
      "metadata": {
        "id": "nix0K4cpGmPU"
      },
      "outputs": [],
      "source": [
        "help(math)"
      ]
    },
    {
      "cell_type": "markdown",
      "metadata": {
        "id": "0lGVmnsDGmPU"
      },
      "source": [
        "## **Exercise 1**\n",
        "### **Creating a Module with a Function and Class definitions**\n",
        "1. Create a module with the following entities\n",
        "   * A function called **`demographics`** to ask a user for their first name, last name and year of birth and returns these values in that order.<br>\n",
        "   * A function called **`uc_6_2`** with two string inputs (two names of a person with the first name as first input). This function returns the UC 6+2\n",
        "   * A class called **`Student`** with the following attributes\n",
        "     * Takes three string input(First name, last name, and year of birth in that order) to create an object of this class\n",
        "     * A **`student_count`** CLASS VARIABLE to track the count of every student object created so to use them in creating a student number for each student\n",
        "     * A method called **`student_number`** to return the student number. A student number is the **`student's year of birth + student's count`**\n",
        "     * A method called **`student_id`** calls the **`uc_6_2`** function to return the student ID\n",
        "   * Save the module as **`uc_student.py`**\n",
        "<br><br>  \n",
        "2. Imports the uc_student.py module into your session\n",
        "   * Create 3 student objects using the following steps\n",
        "     * For each student call the **`demographics( )`** function as save the output in a variable\n",
        "     * Use the information provided to create a student object\n",
        "   * Print the student number and student id of each student object\n",
        "   * Print the total number of students"
      ]
    },
    {
      "cell_type": "markdown",
      "metadata": {
        "id": "JAbnuc33GmPU"
      },
      "source": [
        "### **Solving Part 2 of Exercise**\n",
        "**Import the `uc_student` module into your session with an alias**"
      ]
    },
    {
      "cell_type": "code",
      "execution_count": null,
      "metadata": {
        "id": "f7MxXBn-GmPV"
      },
      "outputs": [],
      "source": []
    },
    {
      "cell_type": "markdown",
      "metadata": {
        "id": "71nh0Q0iGmPV"
      },
      "source": [
        "**Call the `demographics()` function to take inputs for first student and store in a variable**"
      ]
    },
    {
      "cell_type": "code",
      "execution_count": null,
      "metadata": {
        "id": "GtKDhvgOGmPV"
      },
      "outputs": [],
      "source": []
    },
    {
      "cell_type": "markdown",
      "metadata": {
        "id": "WXnaVrS1GmPV"
      },
      "source": [
        "**Call the `Student` class create first student object using the list saved in the command above and store in a variable**"
      ]
    },
    {
      "cell_type": "code",
      "execution_count": null,
      "metadata": {
        "id": "qmoRFZHkGmPV"
      },
      "outputs": [],
      "source": []
    },
    {
      "cell_type": "markdown",
      "metadata": {
        "id": "04yyic58GmPV"
      },
      "source": [
        "**Call the `demographics()` function to take inputs for second student and\n",
        "store in a variable**"
      ]
    },
    {
      "cell_type": "code",
      "execution_count": null,
      "metadata": {
        "id": "Qz-MDVbNGmPV"
      },
      "outputs": [],
      "source": []
    },
    {
      "cell_type": "markdown",
      "metadata": {
        "id": "Hkl5e2LJGmPV"
      },
      "source": [
        "Call the `Student` class create second student object using the list saved in the command above and store in a variable**"
      ]
    },
    {
      "cell_type": "code",
      "execution_count": null,
      "metadata": {
        "id": "AeTfXM34GmPW"
      },
      "outputs": [],
      "source": []
    },
    {
      "cell_type": "markdown",
      "metadata": {
        "id": "QbkHTtcBGmPW"
      },
      "source": [
        "**Call the `demographics()` function to take inputs for third student and store in a variable**"
      ]
    },
    {
      "cell_type": "code",
      "execution_count": null,
      "metadata": {
        "id": "fZ6BXpDWGmPW"
      },
      "outputs": [],
      "source": []
    },
    {
      "cell_type": "markdown",
      "metadata": {
        "id": "xmqpTYu7GmPW"
      },
      "source": [
        "**Call the `Student` class create third student object using the list saved in the command above and store in a variable**"
      ]
    },
    {
      "cell_type": "code",
      "execution_count": null,
      "metadata": {
        "id": "s3_kH9rjGmPW"
      },
      "outputs": [],
      "source": []
    },
    {
      "cell_type": "markdown",
      "metadata": {
        "id": "Ldy77wUoGmPW"
      },
      "source": [
        "**Print the student number and student id of each student object**\n",
        "\n",
        "**Hint:** Replace the **?** in below command with appropriate code.\n",
        "<br>\n",
        "Do this for all three student objects in the cell below\n",
        "<br>\n",
        "**`print ( 'Number of First Student : ', ? , ' ; ID of First Student : ', ? )`**"
      ]
    },
    {
      "cell_type": "code",
      "execution_count": null,
      "metadata": {
        "id": "vcg5QOH6GmPW"
      },
      "outputs": [],
      "source": []
    },
    {
      "cell_type": "code",
      "source": [
        "#RUN THIS CELL, IF YOU'RE ON \"COLAB\"\n",
        "\n",
        "#Cloning a repository from GitHub\n",
        "!git clone https://github.com/The-CEAS-Library/MyPackage\n",
        "\n",
        "#Downloading the files to the working directory\n",
        "!wget https://raw.githubusercontent.com/The-CEAS-Library/Foundations-of-Python-3/master/capitals.csv\n",
        "!wget https://raw.githubusercontent.com/The-CEAS-Library/Foundations-of-Python-3/master/example.txt\n",
        "!wget https://raw.githubusercontent.com/The-CEAS-Library/Foundations-of-Python-3/master/example2.txt\n",
        "!wget https://raw.githubusercontent.com/The-CEAS-Library/Foundations-of-Python-3/master/example3.txt\n",
        "!wget https://raw.githubusercontent.com/The-CEAS-Library/Foundations-of-Python-3/master/uc_student.py"
      ],
      "metadata": {
        "id": "5riERgsBOboS"
      },
      "execution_count": null,
      "outputs": []
    },
    {
      "cell_type": "markdown",
      "metadata": {
        "id": "BbbPfDIrGmPW"
      },
      "source": [
        "## 🍓**Packages**\n",
        "* A hierarchical file directory structure containing modules and subfolders and sub-subfolders as subpackages or sub-subpackages\n",
        "* It helps organize projects files in a single Python application environment\n",
        "* Each folder has a file called **`__init__.py`**\n",
        "* You can create your own Package\n",
        "* **`__init__.py`** file contains imports statements for modules in the folder and other code to be executed\n",
        "* The Package or folder can be imported using the folder name. Same import rules discussed earlier apply\n",
        "* When a Package is imported, it is initialized by running the **`__init__.py`** file\n",
        "* **System-defined** Packages - Already Built-in modules. An example is the **'email'** package for managing email messages\n",
        "* **User-defined** Packages - You can create your own Package. See example"
      ]
    },
    {
      "cell_type": "code",
      "execution_count": null,
      "metadata": {
        "id": "k19lg7AhGmPX"
      },
      "outputs": [],
      "source": [
        "import MyPackage as m"
      ]
    },
    {
      "cell_type": "code",
      "execution_count": null,
      "metadata": {
        "id": "tZcZEq-KGmPX"
      },
      "outputs": [],
      "source": [
        "m.uc_student.demographics()"
      ]
    },
    {
      "cell_type": "code",
      "execution_count": null,
      "metadata": {
        "id": "zgmO6IGRGmPX"
      },
      "outputs": [],
      "source": [
        "m.uc_6_2('John','Smith')"
      ]
    },
    {
      "cell_type": "markdown",
      "metadata": {
        "id": "RkdpaHjlHVKD"
      },
      "source": [
        "## 🍊:**Libraries**\n",
        "* A Library is a collection of modules and packages that can be used by other python programs\n",
        "* The python community use the words **package** and **library** interchangeably\n"
      ]
    },
    {
      "cell_type": "markdown",
      "metadata": {
        "id": "Ar9uXcu-HgAo"
      },
      "source": [
        "\n",
        "### **Python Standard Library**\n",
        "* Python has a Standard Library with **System-defined** modules and packages\n",
        "* The Python Standard Library is downloaded on local drive when Python is installed\n",
        "* For More info at https://docs.python.org/3/library/\n"
      ]
    },
    {
      "cell_type": "markdown",
      "metadata": {
        "id": "RJwSFAg3HbhY"
      },
      "source": [
        "### **Additional/External Libraries**\n",
        "* Many other modules and packages created by the Python community and third-party teams are maintained in libraries outside the Standard Library.\n",
        "* The Python Package Index (PyPI) serves as the official third-party software repository for Python. It hosts numerous definitions contributed by the Python community and third-party teams.\n",
        "* For more information about PyPI, visit https://pypi.org/.\n",
        "* In addition to PyPI, there are other external libraries available.\n",
        "* You may use a package management system like **'pip'** to install a Package from PyPI and other sources.\n",
        "* Popular packages that are not on the Standard Library include **numpy** for multi-dimensional arrays, **matplotlib** for plotting and graphs and **pandas** for data manipulation and analysis. Thes are available on PyPI."
      ]
    },
    {
      "cell_type": "markdown",
      "metadata": {
        "id": "cBY3ehlVHkLA"
      },
      "source": [
        "### **Installing external Packages via command line using 'pip'**\n",
        "\n",
        " Syntax for installing from PyPI:\n",
        "\n",
        " **`pip install package-name`**\n",
        "\n",
        " **Usage**:\n",
        "\n",
        " **pip install numpy**\n",
        "* More info on installing packages on PyPI and other sources visit using **'pip'** at\n",
        " * https://packaging.python.org/tutorials/installing-packages/\n",
        " * https://pip.pypa.io/en/latest/reference/pip_install/"
      ]
    },
    {
      "cell_type": "markdown",
      "metadata": {
        "id": "ct928da_GmPX"
      },
      "source": [
        "## 🥑**File I/O**\n",
        "* Python's File I/O (Input/Output) facilitates seamless interaction with files, enabling reading, writing, and manipulation through built-in functions and methods.\n",
        "* To read or write to a file you need to create a file object for the file\n",
        "* **open()** is a built-in system function used to create file objects\n",
        "  \n",
        "***Syntax***:<br>\n",
        "**`file_object = open(file_path_name, mode)`**\n",
        "  \n",
        "**`file_path_name`** − String value containing file name or file system path.<br>\n",
        "$\\;\\;\\;\\;\\;\\;\\;\\;\\;\\;\\;\\;\\;\\;\\;\\;\\;\\;\\;\\;\\;\\;\\;$NB: Depending on the access mode, a new file is created if file does not exist.<br>\n",
        "**`mode`** − Optional String value representing the access mode while opening a file (read, write, append, etc).<br>\n",
        "$\\;\\;\\;\\;\\;\\;\\;\\;\\;\\;\\;\\;\\;\\;\\;\\;\\;\\;\\;\\;\\;$Default value is **'r'** for read.<br>\n",
        "$\\;\\;\\;\\;\\;\\;\\;\\;\\;\\;\\;\\;\\;\\;\\;\\;\\;\\;\\;\\;\\;$A new file is created if file does not exist only for write and append modes.<br>\n",
        "\n",
        "*Usage*:"
      ]
    },
    {
      "cell_type": "code",
      "execution_count": null,
      "metadata": {
        "id": "MDvSxsXxGmPX"
      },
      "outputs": [],
      "source": [
        "my_file_1 = open(\"example.txt\", \"r\")"
      ]
    },
    {
      "cell_type": "code",
      "execution_count": null,
      "metadata": {
        "id": "394vUS3TGmPY"
      },
      "outputs": [],
      "source": [
        "my_file_2 = open(\"example2.txt\", \"a+\")"
      ]
    },
    {
      "cell_type": "markdown",
      "metadata": {
        "id": "3uR-WQkeGmPY"
      },
      "source": [
        "### **File Object Data Attributes**\n",
        "**file_object.closed** - Returns 'True' if the file is closed. Otherwise 'False'<br/>**file_object.mode** - Returns access mode with which the file was opened<br/>**file_object.name** - Returns name of the file<br/>  \n",
        "*Usage*:"
      ]
    },
    {
      "cell_type": "code",
      "execution_count": null,
      "metadata": {
        "id": "GXJU6gLmGmPY"
      },
      "outputs": [],
      "source": [
        "print(\"Name of the file: \", my_file_1.name)\n",
        "print(\"Name of the file: \", my_file_1.closed)\n",
        "print(\"Name of the file: \", my_file_1.mode)"
      ]
    },
    {
      "cell_type": "markdown",
      "metadata": {
        "id": "S9w_wY52GmPY"
      },
      "source": [
        "### **File Object Methods**\n",
        "**read( )**<br>\n",
        "Reads a string from an open file. Python strings can have binary data.\n",
        "\n",
        "*Syntax*:<br>\n",
        "**var = file_object.read ( size )**<br>\n",
        "size is an optional parameter for the number of bytes to read\n",
        "\n",
        "*Usage*:"
      ]
    },
    {
      "cell_type": "code",
      "execution_count": null,
      "metadata": {
        "id": "w-38nCWHGmPY"
      },
      "outputs": [],
      "source": [
        "text = my_file_1.read()\n",
        "print(\"Read String is: \", text)"
      ]
    },
    {
      "cell_type": "markdown",
      "metadata": {
        "id": "1CA3O6WDGmPY"
      },
      "source": [
        "**write( )**<br>\n",
        "Writes any string to an open file in write or append mode.\n",
        "\n",
        "*Syntax*:<br>\n",
        "**file_object.write (string)**<br>\n",
        "\n",
        "*Usage*:"
      ]
    },
    {
      "cell_type": "code",
      "execution_count": null,
      "metadata": {
        "id": "nzy1_5mqGmPZ"
      },
      "outputs": [],
      "source": [
        "my_file_2.write('\\nNew Entries')"
      ]
    },
    {
      "cell_type": "markdown",
      "metadata": {
        "id": "fFJPn3rWGmPZ"
      },
      "source": [
        "**close( )**<br>\n",
        "Closes the file object. No more writing or reading can be done after.\n",
        "\n",
        "*Syntax*:<br>\n",
        "**file_object.close( )**<br>\n",
        "\n",
        "*Usage*:"
      ]
    },
    {
      "cell_type": "code",
      "execution_count": null,
      "metadata": {
        "id": "GCbQJRsnGmPZ"
      },
      "outputs": [],
      "source": [
        "my_file_1.close()\n",
        "my_file_2.close()"
      ]
    },
    {
      "cell_type": "markdown",
      "metadata": {
        "id": "phDVaMY2GmPa"
      },
      "source": [
        "#### **Better file reading  using 'with' block construct**\n",
        "Following syntax will automatically close files"
      ]
    },
    {
      "cell_type": "code",
      "execution_count": null,
      "metadata": {
        "id": "FCUftZzIGmPa"
      },
      "outputs": [],
      "source": [
        "with open('example.txt', 'r') as my_file:\n",
        "    text = my_file.read()\n",
        "print(text)\n",
        "print(my_file.closed)"
      ]
    },
    {
      "cell_type": "markdown",
      "metadata": {
        "id": "UJM7tCwTGmPa"
      },
      "source": [
        "####  **Writing to a file**\n"
      ]
    },
    {
      "cell_type": "code",
      "execution_count": null,
      "metadata": {
        "id": "L5XBqITBGmPb"
      },
      "outputs": [],
      "source": [
        "names = ['John Smith','Sarah Blunt ','Dag Heward-Mills','John Wick']\n",
        "with open('example2.txt', 'a+') as new_file:\n",
        "    for i in names:\n",
        "        new_file.write('\\n' + i)"
      ]
    },
    {
      "cell_type": "markdown",
      "metadata": {
        "id": "W46myBTJGmPZ"
      },
      "source": [
        "### **'os' module**\n",
        "The **'os'** system module provides functions that operate on files such as renaming and deleting files.\n",
        "#### **rename()**\n",
        "*Syntax*:<br>\n",
        "**import os**<br>\n",
        "**os.rename(current_file_name, new_file_name)**\n",
        "\n",
        "*Usage*:"
      ]
    },
    {
      "cell_type": "code",
      "execution_count": null,
      "metadata": {
        "id": "6mzDnK7_GmPZ"
      },
      "outputs": [],
      "source": [
        "import os\n",
        "os.rename('example3.txt', 'example_3.txt')"
      ]
    },
    {
      "cell_type": "markdown",
      "metadata": {
        "id": "OapHJ5-5GmPZ"
      },
      "source": [
        "#### **remove()**\n",
        "*Syntax*:<br>\n",
        "**os.remove(file_name)**\n",
        "\n",
        "*Usage*:"
      ]
    },
    {
      "cell_type": "code",
      "execution_count": null,
      "metadata": {
        "id": "9gdSIDTPGmPa"
      },
      "outputs": [],
      "source": [
        "os.remove('example_3.txt')"
      ]
    },
    {
      "cell_type": "markdown",
      "metadata": {
        "id": "gm2hyE6glPfr"
      },
      "source": [
        "## **Bonus Exercise**\n",
        "\n",
        "### **Car Class**\n",
        "\n",
        "Create a class with the following features:\n",
        "\n",
        "* Has properties for Make (Honda, Toyota, etc.), Model (Civic, Corolla, etc.), Year and Cost. These should all be assigned in the constructor. What kinds of datatypes would we need for each for of these?\n",
        "* Has a method called display() which takes no parameters and prints out the details of the car.\n",
        "    * ex) If we have an object with the properties of make=Honda, model=Civic, year=2019 and cost=20000, print out the following:\n",
        "    * \"This car is a 2019 Honda Civic which was purchased for $20000\n",
        "* Create a method called sell_price() that calculates how much the car would be sold for. The sell price is calculated by using the purchase cost and subtracting 500 for every year (2023 - year)\n",
        "    * ex) If we have an object with the properties of make=Honda, model=Civic, year=2019 and cost=20000, print out the following:\n",
        "    * 18000\n",
        "    * 20000 - ((2023 - 2019) * 500)"
      ]
    },
    {
      "cell_type": "code",
      "execution_count": null,
      "metadata": {
        "id": "v6kigGP5lPfr"
      },
      "outputs": [],
      "source": [
        "class Vehicle:\n",
        "\n",
        "    def __init__(self, make, model, year, cost):\n",
        "        # assign make, model, year, and cost to the object.\n",
        "        pass\n",
        "\n",
        "    def display(self):\n",
        "        # you'll want to use a print statement with a concatenated string to put the pieces together\n",
        "        print()\n",
        "\n",
        "    def sell_price(self):\n",
        "        # calculate the sell price using the formula above and return that value\n",
        "        pass"
      ]
    },
    {
      "cell_type": "markdown",
      "metadata": {
        "id": "1Dxo8BNkGmPc"
      },
      "source": [
        "## Advanced and Future Topics\n",
        "* Error Handling and Exceptions\n",
        "* List Comprehensions\n",
        "* Regular Expressions\n",
        "* Database Access\n",
        "* Multithreading\n",
        "\n",
        "## Resources\n",
        "* CEAS Library Python resources - http://guides.libraries.uc.edu/python\n",
        "* Online links & tutorials\n",
        " * Python documentation - https://www.python.org/doc/\n",
        " * Python Programming wiki book - http://en.wikibooks.org/wiki/Python_Programming\n",
        " * Python tutorials - Udemy, Code academy, etc\n",
        " * Tutorials Point - https://www.tutorialspoint.com/python"
      ]
    },
    {
      "cell_type": "markdown",
      "metadata": {
        "id": "Zwb859xhGmPc"
      },
      "source": [
        "# $\\;\\;\\;\\;\\;\\;\\;\\;\\;\\;\\;\\;\\;\\;\\;\\;\\;\\;\\;\\;\\;\\;\\;\\;\\;\\;\\;\\;\\;\\;\\;\\;\\;$Questions ??\n",
        "\n",
        "$\\;\\;\\;\\;\\;\\;\\;\\;\\;\\;\\;\\;\\;\\;\\;\\;\\;\\;\\;\\;\\;\\;\\;\\;\\;\\;\\;\\;\\;\\;\\;\\;\\;\\;\\;\\;\\;\\;\\;\\;\\;\\;\\;\\;\\;\\;\\;\\;\\;\\;\\;\\;\\;\\;\\;\\;\\;\\;$**Thank you for attending the workshop !!**\n",
        "\n",
        "\n",
        "$\\;\\;\\;\\;\\;\\;\\;\\;\\;\\;\\;\\;\\;\\;\\;\\;\\;\\;\\;\\;\\;\\;\\;\\;\\;\\;\\;\\;\\;\\;\\;\\;\\;\\;\\;\\;\\;\\;\\;\\;\\;\\;\\;\\;\\;\\;$**Your kind suggestions/feedbacks are more than welcome**"
      ]
    }
  ],
  "metadata": {
    "colab": {
      "provenance": []
    },
    "kernelspec": {
      "display_name": "Python 3.10.6 64-bit",
      "language": "python",
      "name": "python3"
    },
    "language_info": {
      "codemirror_mode": {
        "name": "ipython",
        "version": 3
      },
      "file_extension": ".py",
      "mimetype": "text/x-python",
      "name": "python",
      "nbconvert_exporter": "python",
      "pygments_lexer": "ipython3",
      "version": "3.10.6"
    },
    "vscode": {
      "interpreter": {
        "hash": "aee8b7b246df8f9039afb4144a1f6fd8d2ca17a180786b69acc140d282b71a49"
      }
    }
  },
  "nbformat": 4,
  "nbformat_minor": 0
}