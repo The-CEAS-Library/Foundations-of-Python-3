{
  "cells": [
    {
      "cell_type": "markdown",
      "metadata": {
        "id": "8sUrEKMkGmPF"
      },
      "source": [
        "# **Objectives**\n",
        "* **Hands-on**\n",
        " * **Classes/Objects**:\n",
        "    * [OOP Terminologies](#scrollTo=DxASzjEvGmPI)\n",
        "    * [User-defined class](#scrollTo=0j-EghdBGmPL)\n",
        " * [Modules & Imports](#scrollTo=Dvva2MBgG9zg)\n",
        " * [Packages & Libraries](#scrollTo=BbbPfDIrGmPW)\n",
        " * [File I/O](#scrollTo=ct928da_GmPX)\n",
        "\n"
      ]
    },
    {
      "cell_type": "markdown",
      "source": [
        "## **Using Chat GPT-4 (or GPT-3.5) as a coding tutor when learning this workshop on your own.**\n",
        "There are several ways that GPT can help improve your self-learning process. ChatGPT can be used as a coding tutor to help:\n",
        "* Explain new concepts in other words. Ask it to give basic, intermediate, or advanced explanations of coding concepts depending on your familiarity and comfort level.\n",
        "* Guide you through the exercises and explain the logic and code. If you get stuck with the exercises, you can ask GPT to give you a step-by-step guide to the exercise so you better understand the learning objectives. For best results, be very specific with ChatGPT so it has the necessary context to best help you.\n",
        "* Give you more exercises. If you aren't sure you understand a concept and want to test your knowledge, ask ChatGPT to give additional exercises to help test your abilities and understanding. They can be coding problems, multiple choice, fill in the blank, or whatever will work best for your learning style. Be creative and get the support you want.  \n",
        "\n",
        "The AI has infinite patience, so ask as many questions as you want!\n",
        "\n",
        "### **The Fruit Emojis**\n",
        "\n",
        "As you go through this workshop, you will notice **Fruit Emojis** embedded throughout. They accompany bolded terms that are the fundamental concepts that python programming is built upon. The key thing here is **if you see an emoji, consider asking ChatGPT about the bolded concept**. For fun, we have gamified this by thinking of the emojis as fruits you can collect while going through the 'Python 3' garden.\n",
        "  - To collect all the fruits, you should follow the workshop section by section and add your found fruit (new coding concept) to the end of the following prompt and take it to ChatGPT:\n",
        "\n",
        " `You are going to take on the role of an excellent python coding tutor. I'm a beginner learning to program in python. In simple terms, please give me an overview and explanation of the following concept:  `\n",
        "\n",
        "  - You can add more surrounding components to the prompts to make it more clear. For example, maybe you know another language and want ChatGPT to compare how the concept works in R or C++ to help you better understand.\n",
        "\n",
        "### Disclaimer\n",
        "\n",
        "\"ChatGPT may produce inaccurate information about people, places, or facts.\" -OpenAI\n",
        "\n",
        "\n",
        "\n",
        "*   Outputs may be inaccurate, untruthful, and otherwise misleading.\n",
        "*   ChatGPT is not connected to the internet. (although this feature is now available with ChatGPT Plus as a beta feature)\n",
        "*   It has limited knowledge of world and events after September 2021.\n",
        "*   It may produce biased content.\n",
        "*   It will not cite sources.\n",
        "\n",
        "Always use caution when interacting with LLM AI systems. Despite the large bounds in progress and capability, they are still in early versions and teams of people are working to fix short comings and mistakes each and every day. Despite how useful they can be as coding tutors, it is important to remember that their outputs should be met with a healthy amount of skepticism."
      ],
      "metadata": {
        "id": "oTjtCRhkNQi_"
      }
    },
    {
      "cell_type": "markdown",
      "metadata": {
        "id": "DxASzjEvGmPI"
      },
      "source": [
        "## **Classes and Objects**\n",
        "### **OOP Terminologies**\n",
        "Python supports object-oriented programming (OOP). Some OOP terminologies include;\n",
        "#### 🥝**Class**\n",
        "* Prototype for objects that defines a set of attributes that characterize any object of the class.\n",
        "* There are two types of classes. **System Defined** and **User Defined** classes\n",
        "* Example of a system defined class is the **'str'** class for string literals\n",
        "\n",
        "#### 🥥**Object**\n",
        "* Unique instance of a class\n",
        "* It comprises both data members and methods as defined by its class\n",
        "\n"
      ]
    },
    {
      "cell_type": "code",
      "execution_count": null,
      "metadata": {
        "id": "-Vg4AKwDGmPJ"
      },
      "outputs": [],
      "source": [
        "var = 'This is a string object'"
      ]
    },
    {
      "cell_type": "markdown",
      "metadata": {
        "id": "44gRCbm6GmPK"
      },
      "source": [
        "* **'var'** is an object of String class\n",
        "\n",
        "#### 🍇**Instantiation**\n",
        "* The creation of an object (instance of a class)\n",
        "\n",
        "#### **🍈Attributes**\n",
        "* Data members and methods, accessed via dot notation\n",
        "\n",
        "#### **🍊Data member**\n",
        "* Holds data associated with a class and its objects\n",
        "* May be a class variable or instance variable\n",
        "\n",
        "#### 🍋**Class variable**\n",
        "* Shared with all instances of a class\n",
        "* Defined within a class but outside any of the class's methods\n",
        "\n",
        "#### 🍍**Instance variable**\n",
        "* Defined inside a method and belongs only to the current instance/object\n",
        "\n",
        "#### 🥭**Method**\n",
        "* A special kind of function that is defined in a class definition\n",
        "---\n",
        "Did you notice the first food emoji? Here is an example of how to use the sample prompt given above:\n",
        "\n",
        "`You are going to take on the role of an excellent python coding tutor. I'm a beginner learning to program in python. In simple terms, please give me an overview and explanation of the following concept: Class`"
      ]
    },
    {
      "cell_type": "code",
      "execution_count": null,
      "metadata": {
        "id": "ZBzzuGskGmPL"
      },
      "outputs": [],
      "source": [
        "var.upper()"
      ]
    },
    {
      "cell_type": "markdown",
      "metadata": {
        "id": "0j-EghdBGmPL"
      },
      "source": [
        "### **Defining a User-defined class**\n",
        "* To create a class, it begins with keyword **'class'** followed by the class name\n",
        "\n",
        "  **class ClassName:**\n",
        "\n",
        "  $\\;\\;\\;\\;\\;\\;$**class variables** # shared among all instances of this class\n",
        "\n",
        "  $\\;\\;\\;\\;\\;\\;$**return expression**\n",
        "\n",
        "  $\\;\\;\\;\\;\\;\\;$**def \\__init__(self,class_parameter[s]) :**\n",
        "\n",
        "  $\\;\\;\\;\\;\\;\\;\\;\\;\\;\\;\\;\\;$**self.instance_variables[s] = class_parameter[s]**\n",
        "\n",
        "  $\\;\\;\\;\\;\\;\\;\\;\\;\\;\\;\\;\\;$**\\__init__ method body**\n",
        "\n",
        "  $\\;\\;\\;\\;\\;\\;$**class body**\n",
        "  \n",
        "* By convention class names begin with an initial caps\n",
        "* Includes a compulsory 🍎**intial method** `__init__( )`<br>\n",
        "  (**NB**: **'\\__'** is double underscore)\n",
        "  Python calls this method when you create a new instance of this class\n",
        "* **`__init__( )`** can include optional parameters that might be required at initialization of the class\n",
        "* Class body has statements that define attributes (data and methods)\n",
        "* All other class methods are normal functions except the **first compulsory** argument to each method is **'self'**\n",
        "* See example below"
      ]
    },
    {
      "cell_type": "code",
      "execution_count": null,
      "metadata": {
        "id": "khWdCt8uGmPM"
      },
      "outputs": [],
      "source": [
        "class Employee:\n",
        "    # A class variable\n",
        "    empCount = 0\n",
        "    # Compulsory initial method. Notice the compulsory self arguments\n",
        "    def __init__(self, name, salary):\n",
        "        self.new_name = name\n",
        "        self.new_salary = salary\n",
        "        Employee.empCount += 1 # Notice how class variables are referenced\n",
        "    # First method. Notice the compulsory self arguments\n",
        "    def displayCount(self):\n",
        "        print (\"This is Employee # %d\" % Employee.empCount)\n",
        "    # Second method. Notice the compulsory self arguments\n",
        "    def displayEmployee(self, increment):\n",
        "        print (\"Name : \", self.new_name, \", Salary: \", str(self.new_salary), \", Next year Salary: \",  str(self.new_salary+increment))"
      ]
    },
    {
      "cell_type": "markdown",
      "metadata": {
        "id": "GDwlljDpGmPN"
      },
      "source": [
        "**Creating an Object of class Employee**"
      ]
    },
    {
      "cell_type": "code",
      "execution_count": null,
      "metadata": {
        "id": "tp70SZMyGmPN"
      },
      "outputs": [],
      "source": [
        "emp1 = Employee(\"Zara\", 2000)"
      ]
    },
    {
      "cell_type": "markdown",
      "metadata": {
        "id": "ZKwRJJV2GmPO"
      },
      "source": [
        "**Calling a method**"
      ]
    },
    {
      "cell_type": "code",
      "execution_count": null,
      "metadata": {
        "id": "u77GsDNSGmPO"
      },
      "outputs": [],
      "source": [
        "emp1.displayCount()"
      ]
    },
    {
      "cell_type": "markdown",
      "metadata": {
        "id": "rCBFxfQFGmPP"
      },
      "source": [
        "**Creating another object**"
      ]
    },
    {
      "cell_type": "code",
      "execution_count": null,
      "metadata": {
        "id": "KoDTipm1GmPP"
      },
      "outputs": [],
      "source": [
        "emp2 = Employee(\"John\", 5000)"
      ]
    },
    {
      "cell_type": "markdown",
      "metadata": {
        "id": "s4bqJfUcGmPP"
      },
      "source": [
        "**Calling another method**"
      ]
    },
    {
      "cell_type": "code",
      "execution_count": null,
      "metadata": {
        "id": "DUsFcyHQGmPQ"
      },
      "outputs": [],
      "source": [
        "emp2.displayEmployee(200)"
      ]
    },
    {
      "cell_type": "markdown",
      "metadata": {
        "id": "C2TrN9DfGmPQ"
      },
      "source": [
        "**A class variable**"
      ]
    },
    {
      "cell_type": "code",
      "execution_count": null,
      "metadata": {
        "id": "sCPzmFziGmPR"
      },
      "outputs": [],
      "source": [
        "Employee.empCount"
      ]
    },
    {
      "cell_type": "markdown",
      "metadata": {
        "id": "22fJVl4FGmPR"
      },
      "source": [
        "**An instance variable**"
      ]
    },
    {
      "cell_type": "code",
      "execution_count": null,
      "metadata": {
        "id": "YRmv1xoDGmPR"
      },
      "outputs": [],
      "source": [
        "emp1.new_name"
      ]
    },
    {
      "cell_type": "code",
      "execution_count": null,
      "metadata": {
        "id": "9YzKAZLIGmPR"
      },
      "outputs": [],
      "source": [
        "print(\"Total number of Employees is %d\" % Employee.empCount)\n",
        "print(\"Name of second employee is\", emp2.new_name)"
      ]
    },
    {
      "cell_type": "code",
      "execution_count": null,
      "metadata": {
        "id": "60XryAFTXnAC"
      },
      "outputs": [],
      "source": [
        "#RUN THIS CELL, IF YOU'RE ON \"COLAB\"\n",
        "\n",
        "#Cloning a repository from GitHub\n",
        "!git clone https://github.com/The-CEAS-Library/MyPackage\n",
        "\n",
        "#Downloading the files to the working directory\n",
        "!wget https://raw.githubusercontent.com/The-CEAS-Library/Foundations-of-Python-3/master/capitals.csv\n",
        "!wget https://raw.githubusercontent.com/The-CEAS-Library/Foundations-of-Python-3/master/example.txt\n",
        "!wget https://raw.githubusercontent.com/The-CEAS-Library/Foundations-of-Python-3/master/example2.txt\n",
        "!wget https://raw.githubusercontent.com/The-CEAS-Library/Foundations-of-Python-3/master/example3.txt\n",
        "!wget https://raw.githubusercontent.com/The-CEAS-Library/Foundations-of-Python-3/master/support.py\n",
        "!wget https://raw.githubusercontent.com/The-CEAS-Library/Foundations-of-Python-3/master/uc_student.py"
      ]
    },
    {
      "cell_type": "markdown",
      "metadata": {
        "id": "Dvva2MBgG9zg"
      },
      "source": [
        "## **Modules and Imports**\n",
        "* A module is a file that contains definitions - including functions, variables and classes - that you can use once it is imported\n",
        "* A module can also include runnable code\n",
        "* Two types of modules\n",
        " * **System-defined** - Built-in modules like **'random'** located in **'random.py'** file\n",
        " * **User-defined** - Put all the related codes and definitions in a single file and save as **'.py'**"
      ]
    },
    {
      "cell_type": "markdown",
      "metadata": {
        "id": "g-S0pJujGmPS"
      },
      "source": [
        "### **Creating a 🍑User-defined Module**\n",
        "To create a module called **'support'**\n",
        "* Open an empty script\n",
        "* Write the code and definitions. Use example below\n",
        "  ```\n",
        "  pressure = 103.9\n",
        "  def adding(x , y):\n",
        "    return x + y\n",
        "  def subtr(x , y):\n",
        "    return x - y\n",
        "  ```\n",
        "  \n",
        "* Save script as **'support.py'**\n",
        "\n"
      ]
    },
    {
      "cell_type": "markdown",
      "metadata": {
        "id": "P_hn2DCfHDUX"
      },
      "source": [
        "### 🍒**Importing Modules**\n",
        "Use **`import`** command to load a library into a program's memory\n",
        "\n",
        "#### **Generic import**\n",
        "Import only whole module(s)\n",
        "\n",
        "*Syntax*:\n",
        "<br>\n",
        "**`import module_1 ,module_2 ,...module_N`**\n",
        "\n",
        "*Usage*:"
      ]
    },
    {
      "cell_type": "code",
      "execution_count": null,
      "metadata": {
        "id": "EVlsyc3EGmPS"
      },
      "outputs": [],
      "source": [
        "import support\n",
        "import math, random\n",
        "print(support.pressure)\n",
        "v = support.adding(2,3)\n",
        "print(v)"
      ]
    },
    {
      "cell_type": "markdown",
      "metadata": {
        "id": "j8WvqeUfGmPS"
      },
      "source": [
        "#### **Generic import with alias**\n",
        "*Syntax*:\n",
        "<br>\n",
        "**`import module_1 as m_1, module_2 as m_2, ...module_N as m_N`**\n",
        "\n",
        "*Usage*:"
      ]
    },
    {
      "cell_type": "code",
      "execution_count": null,
      "metadata": {
        "id": "yFzB-yB3GmPT"
      },
      "outputs": [],
      "source": [
        "import math as m, support as s\n",
        "v = s.adding(2,3)\n",
        "print(v)"
      ]
    },
    {
      "cell_type": "markdown",
      "metadata": {
        "id": "mwDan8MmGmPT"
      },
      "source": [
        "#### **Specific items import **\n",
        "Load only specific items from module\n",
        "\n",
        "*Syntax*:\n",
        "<br>\n",
        "**`from module_name import item_1, item_2, ...item_N`**\n",
        "\n",
        "*Usage*:"
      ]
    },
    {
      "cell_type": "code",
      "execution_count": null,
      "metadata": {
        "id": "JkCVGKDPGmPT"
      },
      "outputs": [],
      "source": [
        "from support import adding\n",
        "v = adding(2,3)\n",
        "print(v)"
      ]
    },
    {
      "cell_type": "markdown",
      "metadata": {
        "id": "5h0a4OfEGmPT"
      },
      "source": [
        "#### **Universal import**\n",
        "Import all items in a module individually\n",
        "\n",
        "*Syntax*:\n",
        "<br>\n",
        "**`from module_name import`**\n",
        "\n",
        "*Usage*:"
      ]
    },
    {
      "cell_type": "code",
      "execution_count": null,
      "metadata": {
        "id": "gdGCevsjGmPT"
      },
      "outputs": [],
      "source": [
        "from support import *\n",
        "v = adding(2,3)\n",
        "u = subtr(2,3)\n",
        "print(u)\n",
        "print(v)"
      ]
    },
    {
      "cell_type": "markdown",
      "metadata": {
        "id": "gfSYkperGmPT"
      },
      "source": [
        "### **More on Modules**\n",
        "* **`dir (module_name)`** returns a sorted list of strings with names of items in a module\n",
        "* **`help (module_name)`** find out more about a module's contents"
      ]
    },
    {
      "cell_type": "code",
      "execution_count": null,
      "metadata": {
        "id": "_f2P3_i9GmPU"
      },
      "outputs": [],
      "source": [
        "import math\n",
        "content = dir(math)"
      ]
    },
    {
      "cell_type": "code",
      "execution_count": null,
      "metadata": {
        "id": "XdnupQ4pGmPU",
        "scrolled": true
      },
      "outputs": [],
      "source": [
        "print(content)"
      ]
    },
    {
      "cell_type": "code",
      "execution_count": null,
      "metadata": {
        "id": "nix0K4cpGmPU"
      },
      "outputs": [],
      "source": [
        "help(math)"
      ]
    },
    {
      "cell_type": "markdown",
      "metadata": {
        "id": "0lGVmnsDGmPU"
      },
      "source": [
        "## **Exercise 1**\n",
        "### **Creating a Module with a Function and Class definitions**\n",
        "1. Create a module with the following entities\n",
        "   * A function called **`demographics`** to ask a user for their first name, last name and year of birth and returns these values in that order.<br>\n",
        "     NB: Remember the **input( )** or **raw_iput( )** functions for Python 3 and 2 respectively.\n",
        "   * A function called **`uc_6_2`** with two string inputs (two names of a person with the first name as first input). This function returns the UC 6+2\n",
        "   * A class called **`Student`** with the following attributes\n",
        "     * Takes three string input(First name, last name, and year of birth in that order) to create an object of this class\n",
        "     * A **`student_count`** CLASS VARIABLE to track the count of every student object created so to use them in creating a student number for each student\n",
        "     * A method called **`student_number`** to return the student number. A student number is the **`student's year of birth + student's count`**\n",
        "     * A method called **`student_id`** calls the **`uc_6_2`** function to return the student ID\n",
        "   * Save the module as **`uc_student.py`**\n",
        "<br><br>  \n",
        "2. Imports the uc_student.py module into your session\n",
        "   * Create 3 student objects using the following steps\n",
        "     * For each student call the **`demographics( )`** function as save the output in a variable\n",
        "     * Use the information provided to create a student object\n",
        "   * Print the student number and student id of each student object\n",
        "   * Print the total number of students"
      ]
    },
    {
      "cell_type": "markdown",
      "metadata": {
        "id": "JAbnuc33GmPU"
      },
      "source": [
        "### **Solving Part 2 of Exercise**\n",
        "**Import the `uc_student` module into your session with an alias**"
      ]
    },
    {
      "cell_type": "code",
      "execution_count": null,
      "metadata": {
        "id": "f7MxXBn-GmPV"
      },
      "outputs": [],
      "source": []
    },
    {
      "cell_type": "markdown",
      "metadata": {
        "id": "71nh0Q0iGmPV"
      },
      "source": [
        "**Call the `demographics()` function to take inputs for first student and store in a variable**"
      ]
    },
    {
      "cell_type": "code",
      "execution_count": null,
      "metadata": {
        "id": "GtKDhvgOGmPV"
      },
      "outputs": [],
      "source": []
    },
    {
      "cell_type": "markdown",
      "metadata": {
        "id": "WXnaVrS1GmPV"
      },
      "source": [
        "**Call the `Student` class create first student object using the list saved in the command above and store in a variable**"
      ]
    },
    {
      "cell_type": "code",
      "execution_count": null,
      "metadata": {
        "id": "qmoRFZHkGmPV"
      },
      "outputs": [],
      "source": []
    },
    {
      "cell_type": "markdown",
      "metadata": {
        "id": "04yyic58GmPV"
      },
      "source": [
        "**Call the `demographics()` function to take inputs for second student and\n",
        "store in a variable**"
      ]
    },
    {
      "cell_type": "code",
      "execution_count": null,
      "metadata": {
        "id": "Qz-MDVbNGmPV"
      },
      "outputs": [],
      "source": []
    },
    {
      "cell_type": "markdown",
      "metadata": {
        "id": "Hkl5e2LJGmPV"
      },
      "source": [
        "Call the `Student` class create second student object using the list saved in the command above and store in a variable**"
      ]
    },
    {
      "cell_type": "code",
      "execution_count": null,
      "metadata": {
        "id": "AeTfXM34GmPW"
      },
      "outputs": [],
      "source": []
    },
    {
      "cell_type": "markdown",
      "metadata": {
        "id": "QbkHTtcBGmPW"
      },
      "source": [
        "**Call the `demographics()` function to take inputs for third student and store in a variable**"
      ]
    },
    {
      "cell_type": "code",
      "execution_count": null,
      "metadata": {
        "id": "fZ6BXpDWGmPW"
      },
      "outputs": [],
      "source": []
    },
    {
      "cell_type": "markdown",
      "metadata": {
        "id": "xmqpTYu7GmPW"
      },
      "source": [
        "**Call the `Student` class create third student object using the list saved in the command above and store in a variable**"
      ]
    },
    {
      "cell_type": "code",
      "execution_count": null,
      "metadata": {
        "id": "s3_kH9rjGmPW"
      },
      "outputs": [],
      "source": []
    },
    {
      "cell_type": "markdown",
      "metadata": {
        "id": "Ldy77wUoGmPW"
      },
      "source": [
        "**Print the student number and student id of each student object**\n",
        "\n",
        "**Hint:** Replace the **?** in below command with appropriate code.\n",
        "<br>\n",
        "Do this for all three student objects in the cell below\n",
        "<br>\n",
        "**`print ( 'Number of First Student : ', ? , ' ; ID of First Student : ', ? )`**"
      ]
    },
    {
      "cell_type": "code",
      "execution_count": null,
      "metadata": {
        "id": "vcg5QOH6GmPW"
      },
      "outputs": [],
      "source": []
    },
    {
      "cell_type": "markdown",
      "metadata": {
        "id": "BbbPfDIrGmPW"
      },
      "source": [
        "## 🍓**Packages**\n",
        "* A hierarchical file directory structure containing modules and subfolders and sub-subfolders as subpackages or sub-subpackages\n",
        "* It helps organize projects files in a single Python application environment\n",
        "* Each folder has a file called **`__init__.py`**\n",
        "* You can create your own Package\n",
        "* **`__init__.py`** file contains imports statements for modules in the folder and other code to be executed\n",
        "* The Package or folder can be imported using the folder name. Same import rules discussed earlier apply\n",
        "* When a Package is imported, it is initialized by running the **`__init__.py`** file\n",
        "* **System-defined** Packages - Already Built-in modules. An example is the **'email'** package for managing email messages\n",
        "* **User-defined** Packages - You can create your own Package. See example"
      ]
    },
    {
      "cell_type": "code",
      "execution_count": null,
      "metadata": {
        "id": "k19lg7AhGmPX"
      },
      "outputs": [],
      "source": [
        "import MyPackage as m"
      ]
    },
    {
      "cell_type": "code",
      "execution_count": null,
      "metadata": {
        "id": "tZcZEq-KGmPX"
      },
      "outputs": [],
      "source": [
        "m.uc_student.demographics()"
      ]
    },
    {
      "cell_type": "code",
      "execution_count": null,
      "metadata": {
        "id": "zgmO6IGRGmPX"
      },
      "outputs": [],
      "source": [
        "m.uc_6_2('John','Smith')"
      ]
    },
    {
      "cell_type": "markdown",
      "metadata": {
        "id": "RkdpaHjlHVKD"
      },
      "source": [
        "## 🫐**Libraries**\n",
        "* A Library is a collection of modules and packages that can be used by other python programs\n",
        "* The python community use the words **package** and **library** interchangeably\n"
      ]
    },
    {
      "cell_type": "markdown",
      "metadata": {
        "id": "Ar9uXcu-HgAo"
      },
      "source": [
        "\n",
        "### **Python Standard Library**\n",
        "* Python has a Standard Library with **System-defined** modules and packages\n",
        "* The Python Standard Library is downloaded on local drive when Python is installed\n",
        "* For More info at https://docs.python.org/3/library/\n"
      ]
    },
    {
      "cell_type": "markdown",
      "metadata": {
        "id": "RJwSFAg3HbhY"
      },
      "source": [
        "### **Additional/External Libraries**\n",
        "* Many other modules and packages created by the Python community and third-party teams are kept on Libraries outside of the Standard Library\n",
        "* The **Python Package Index (PyPI)** is the official third-party software repository or library for Python\n",
        "* Many definitions created by the Python community and third-party teams are shared on PyPI\n",
        "* More info on PyPI at https://pypi.org/\n",
        "* There are other External Libraries aside PyPI\n",
        "* You may use a package management system like **'pip'** to install a Package from PyPI and other sources\n",
        "* Popular packages not on the Standard Library include **numpy** for multi-dimensional arrays, **matplotlib** for plotting and graphs and **pandas** for data manipulation and analysis. Thes are available on PyPI"
      ]
    },
    {
      "cell_type": "markdown",
      "metadata": {
        "id": "cBY3ehlVHkLA"
      },
      "source": [
        "### **Installing external Packages via command line using 'pip'**\n",
        "* **'pip'** can install from\n",
        " * PyPI (Python Package Index)\n",
        " * Local directories\n",
        " * Remote source archives\n",
        " * urls with VCS support using url prefixes ( 'git+', 'hg+', 'bzr+', 'svn+' for Git, Mercurial, Subversion and Bazaar respectively)\n",
        "* **'pip'** uses PyPI as the default source for packages and their dependencies\n",
        "* Open Command Prompt for Windows or Terminal for Mac or Linux to install a package via **'pip'**\n",
        "\n",
        " Syntax for installing from PyPI**:\n",
        "\n",
        " **`pip install package-name`**\n",
        "\n",
        " **Usage**:\n",
        "\n",
        " **pip install numpy**\n",
        "* More info on installing packages on PyPI and other sources visit using **'pip'** at\n",
        " * https://packaging.python.org/tutorials/installing-packages/\n",
        " * https://pip.pypa.io/en/latest/reference/pip_install/"
      ]
    },
    {
      "cell_type": "markdown",
      "metadata": {
        "id": "ct928da_GmPX"
      },
      "source": [
        "## 🥑**File Objects**\n",
        "* To read or write to a file you need to create a file object for the file\n",
        "* **open()** is a built-in system function used to create file objects\n",
        "  \n",
        "***Syntax***:<br>\n",
        "**`file_object = open(file_path_name [, access_mode] [, buffering] )`**\n",
        "  \n",
        "**`file_path_name`** − String value containing file name or file system path.<br>\n",
        "$\\;\\;\\;\\;\\;\\;\\;\\;\\;\\;\\;\\;\\;\\;\\;\\;\\;\\;\\;\\;\\;\\;\\;$NB: Depending on the access mode, a new file is created if file does not exist.<br>\n",
        "**`access_mode`** − Optional String value representing mode while opening a file (read, write, append, etc).<br>\n",
        "$\\;\\;\\;\\;\\;\\;\\;\\;\\;\\;\\;\\;\\;\\;\\;\\;\\;\\;\\;\\;\\;$Default value is **'r'** for read.<br>\n",
        "$\\;\\;\\;\\;\\;\\;\\;\\;\\;\\;\\;\\;\\;\\;\\;\\;\\;\\;\\;\\;\\;$A new file is created if file does not exist only for write and append modes.<br>\n",
        "$\\;\\;\\;\\;\\;\\;\\;\\;\\;\\;\\;\\;\\;\\;\\;\\;\\;\\;\\;\\;\\;$A complete list of possible mode values in workshop material and online guide.<br>\n",
        "**`buffering`** − Optional integer used to set the buffering policy.<br>\n",
        "$\\;\\;\\;\\;\\;\\;\\;\\;\\;\\;\\;\\;\\;\\;\\;$Defaults value is -1.<br>\n",
        "$\\;\\;\\;\\;\\;\\;\\;\\;\\;\\;\\;\\;\\;\\;\\;$0 to switch buffering off (only in binary mode),<br>\n",
        "$\\;\\;\\;\\;\\;\\;\\;\\;\\;\\;\\;\\;\\;\\;\\;$1 to select line buffering (only usable in text mode),<br>\n",
        "$\\;\\;\\;\\;\\;\\;\\;\\;\\;\\;\\;\\;\\;\\;\\;$> 1 to indicate the size in bytes of a fixed-size chunk buffer (only in binary mode),<br>\n",
        "$\\;\\;\\;\\;\\;\\;\\;\\;\\;\\;\\;\\;\\;\\;\\;$< 1 default behavior.\n",
        "  \n",
        "*Usage*:"
      ]
    },
    {
      "cell_type": "code",
      "execution_count": null,
      "metadata": {
        "id": "MDvSxsXxGmPX"
      },
      "outputs": [],
      "source": [
        "my_file_1 = open(\"example.txt\", \"r\")"
      ]
    },
    {
      "cell_type": "code",
      "execution_count": null,
      "metadata": {
        "id": "394vUS3TGmPY"
      },
      "outputs": [],
      "source": [
        "my_file_2 = open(\"example2.txt\", \"a+\")"
      ]
    },
    {
      "cell_type": "markdown",
      "metadata": {
        "id": "3uR-WQkeGmPY"
      },
      "source": [
        "### **File Object Data Attributes**\n",
        "**file.closed** - Returns 'True' if the file is closed. Otherwise 'False'<br/>**file.mode** - Returns access mode with which the file was opened<br/>**file.name** - Returns name of the file<br/>  \n",
        "*Usage*:"
      ]
    },
    {
      "cell_type": "code",
      "execution_count": null,
      "metadata": {
        "id": "GXJU6gLmGmPY"
      },
      "outputs": [],
      "source": [
        "print (\"Name of the file: \", my_file_1.name)"
      ]
    },
    {
      "cell_type": "markdown",
      "metadata": {
        "id": "S9w_wY52GmPY"
      },
      "source": [
        "### **File Object Methods**\n",
        "**read( )**<br>\n",
        "Reads a string from an open file. Python strings can have binary data.\n",
        "\n",
        "*Syntax*:<br>\n",
        "**var = file_object.read ( [count] )**<br>\n",
        "count is an optional parameter for the number of bytes to read\n",
        "\n",
        "*Usage*:"
      ]
    },
    {
      "cell_type": "code",
      "execution_count": null,
      "metadata": {
        "id": "w-38nCWHGmPY"
      },
      "outputs": [],
      "source": [
        "text = my_file_1.read()\n",
        "print (\"Read String is: \", text)"
      ]
    },
    {
      "cell_type": "markdown",
      "metadata": {
        "id": "1CA3O6WDGmPY"
      },
      "source": [
        "**write( )**<br>\n",
        "Writes any string to an open file in write or append mode.\n",
        "\n",
        "*Syntax*:<br>\n",
        "**file_object.write (string)**<br>\n",
        "\n",
        "*Usage*:"
      ]
    },
    {
      "cell_type": "code",
      "execution_count": null,
      "metadata": {
        "id": "nzy1_5mqGmPZ"
      },
      "outputs": [],
      "source": [
        "my_file_2.write('\\nNew Entries')"
      ]
    },
    {
      "cell_type": "markdown",
      "metadata": {
        "id": "fFJPn3rWGmPZ"
      },
      "source": [
        "**close( )**<br>\n",
        "Closes the file object. No more writing or reading can be done after.\n",
        "\n",
        "*Syntax*:<br>\n",
        "**file_object.close( )**<br>\n",
        "\n",
        "*Usage*:"
      ]
    },
    {
      "cell_type": "code",
      "execution_count": null,
      "metadata": {
        "id": "GCbQJRsnGmPZ"
      },
      "outputs": [],
      "source": [
        "my_file_1.close()\n",
        "my_file_2.close()"
      ]
    },
    {
      "cell_type": "markdown",
      "metadata": {
        "id": "W46myBTJGmPZ"
      },
      "source": [
        "\n",
        "The **'os'** system module provides functions that operate on files such as renaming and deleting files.\n",
        "#### **rename()**\n",
        "*Syntax*:<br>\n",
        "**import os**<br>\n",
        "**os.rename(current_file_name, new_file_name)**\n",
        "\n",
        "*Usage*:"
      ]
    },
    {
      "cell_type": "code",
      "execution_count": null,
      "metadata": {
        "id": "6mzDnK7_GmPZ"
      },
      "outputs": [],
      "source": [
        "import os\n",
        "os.rename('example3.txt', 'example_3.txt')"
      ]
    },
    {
      "cell_type": "markdown",
      "metadata": {
        "id": "OapHJ5-5GmPZ"
      },
      "source": [
        "#### **remove()**\n",
        "*Syntax*:<br>\n",
        "**os.remove(file_name)**\n",
        "\n",
        "*Usage*:"
      ]
    },
    {
      "cell_type": "code",
      "execution_count": null,
      "metadata": {
        "id": "9gdSIDTPGmPa"
      },
      "outputs": [],
      "source": [
        "os.remove('example_3.txt')"
      ]
    },
    {
      "cell_type": "markdown",
      "metadata": {
        "id": "ftBLPlNQGmPa"
      },
      "source": [
        "### 🍏**File Operations Coding**\n",
        "#### **Reading from a file**\n",
        "NB: File needs to be closed after it has been opened."
      ]
    },
    {
      "cell_type": "code",
      "execution_count": null,
      "metadata": {
        "id": "XODIm-6SGmPa"
      },
      "outputs": [],
      "source": [
        "my_file = open(\"example.txt\", \"r\")\n",
        "text = my_file.read()\n",
        "my_file.close()\n",
        "print(text)"
      ]
    },
    {
      "cell_type": "markdown",
      "metadata": {
        "id": "phDVaMY2GmPa"
      },
      "source": [
        "#### **Better File Reading code using 'with' block construct**\n",
        "Following syntax will automatically close files"
      ]
    },
    {
      "cell_type": "code",
      "execution_count": null,
      "metadata": {
        "id": "FCUftZzIGmPa"
      },
      "outputs": [],
      "source": [
        "with open('example.txt', 'r') as my_file:\n",
        "    text = my_file.read()\n",
        "print(text)"
      ]
    },
    {
      "cell_type": "markdown",
      "metadata": {
        "id": "VIOjI1RwGmPa"
      },
      "source": [
        "#### **Reading individual lines in a file as a list using 'for line in' loop**\n",
        "We often want to read in a file line by line and storing them in a list"
      ]
    },
    {
      "cell_type": "code",
      "execution_count": null,
      "metadata": {
        "id": "oDRT2RaQGmPa"
      },
      "outputs": [],
      "source": [
        "lines = []\n",
        "with open('example.txt', 'r') as my_file:\n",
        "    for b in my_file:\n",
        "        lines.append(b.strip()) # strip gets rid of line breaks\n",
        "# at the end of each line\n",
        "for a in lines:\n",
        "    print(a)"
      ]
    },
    {
      "cell_type": "markdown",
      "metadata": {
        "id": "UJM7tCwTGmPa"
      },
      "source": [
        "####  **Writing to a file**\n",
        "NB:  File needs to be closed after it has been opened."
      ]
    },
    {
      "cell_type": "markdown",
      "metadata": {
        "id": "Z5DOVcnMGmPb"
      },
      "source": [
        "#### **Better code using the 'with' block construct to automatically close file**"
      ]
    },
    {
      "cell_type": "code",
      "execution_count": null,
      "metadata": {
        "id": "L5XBqITBGmPb"
      },
      "outputs": [],
      "source": [
        "names = ['John Smith','Sarah Blunt ','Dag Heward-Mills','John Wick']\n",
        "with open('example2.txt', 'a+') as new_file:\n",
        "    for i in names:\n",
        "        new_file.write('\\n' + i)"
      ]
    },
    {
      "cell_type": "markdown",
      "metadata": {
        "id": "4Am4ObG6GmPb"
      },
      "source": [
        "### **Using the 'csv' System Module for CSV files**\n",
        "* Reading or writing to a **'.csv'** files is a common Python task\n",
        "* A common way to do that is to read a csv as a list of dictionaries\n",
        "* The **'csv'** module is used for this"
      ]
    },
    {
      "cell_type": "code",
      "execution_count": null,
      "metadata": {
        "id": "spdh9Pa0GmPb"
      },
      "outputs": [],
      "source": [
        "import csv"
      ]
    },
    {
      "cell_type": "markdown",
      "metadata": {
        "id": "iLCzQpTvGmPb"
      },
      "source": [
        "#### **Reading from a ' .csv ' file using ' csv.DictReader ( ) ' function**"
      ]
    },
    {
      "cell_type": "code",
      "execution_count": null,
      "metadata": {
        "id": "9uH0t11VGmPb"
      },
      "outputs": [],
      "source": [
        "capitals = [] # make empty list\n",
        "with open('capitals.csv', 'r') as csvfile: # open file object\n",
        "    reader = csv.DictReader(csvfile) # create a reader object\n",
        "    for row in reader: # loop through rows\n",
        "        capitals.append(row) # append each row to the list\n",
        "print(capitals[:5]) # print first 6 rows"
      ]
    },
    {
      "cell_type": "markdown",
      "metadata": {
        "id": "jROqnJqdGmPb"
      },
      "source": [
        "#### **Writing to a '.csv' file is similar. Use 'csv.DictWriter ( )' function**"
      ]
    },
    {
      "cell_type": "code",
      "execution_count": null,
      "metadata": {
        "id": "93ci76YmGmPb"
      },
      "outputs": [],
      "source": [
        "keys = capitals[0].keys() # get keys using first item of Dictionary\n",
        "print(keys)\n",
        "with open('capitals2.csv', 'w') as csv_file: # open file object\n",
        "    writer = csv.DictWriter(csv_file, keys) # create a writer object\n",
        "    writer.writeheader() # write the header\n",
        "    writer.writerows(capitals[0:10]) # write the first 10 rows"
      ]
    },
    {
      "cell_type": "markdown",
      "metadata": {
        "id": "gm2hyE6glPfr"
      },
      "source": [
        "## **Bonus Exercise**\n",
        "\n",
        "### **Car Class**\n",
        "\n",
        "Create a class with the following features:\n",
        "\n",
        "* Has properties for Make (Honda, Toyota, etc.), Model (Civic, Corolla, etc.), Year and Cost. These should all be assigned in the constructor. What kinds of datatypes would we need for each for of these?\n",
        "* Has a method called display() which takes no parameters and prints out the details of the car.\n",
        "    * ex) If we have an object with the properties of make=Honda, model=Civic, year=2019 and cost=20000, print out the following:\n",
        "    * \"This car is a 2019 Honda Civic which was purchased for $20000\n",
        "* Create a method called sell_price() that calculates how much the car would be sold for. The sell price is calculated by using the purchase cost and subtracting 500 for every year (2023 - year)\n",
        "    * ex) If we have an object with the properties of make=Honda, model=Civic, year=2019 and cost=20000, print out the following:\n",
        "    * 18000\n",
        "    * 20000 - ((2023 - 2019) * 500)"
      ]
    },
    {
      "cell_type": "code",
      "execution_count": null,
      "metadata": {
        "id": "v6kigGP5lPfr"
      },
      "outputs": [],
      "source": [
        "class Vehicle:\n",
        "\n",
        "    def __init__(self, make, model, year, cost):\n",
        "        # assign make, model, year, and cost to the object.\n",
        "        pass\n",
        "\n",
        "    def display(self):\n",
        "        # you'll want to use a print statement with a concatenated string to put the pieces together\n",
        "        print()\n",
        "\n",
        "    def sell_price(self):\n",
        "        # calculate the sell price using the formula above and return that value\n",
        "        pass"
      ]
    },
    {
      "cell_type": "markdown",
      "source": [
        "##Tips for self-learning:\n",
        "\n"
      ],
      "metadata": {
        "id": "CE7YpHUrZ8Zu"
      }
    },
    {
      "cell_type": "markdown",
      "source": [
        "###Utilizing GPT to help you revise the whole workshop:\n",
        "If you reach here, congratalution for your patience and amazing effort on collecting intellectual Python dishes. This final step is to gather all your 'key' dishes and create a small quiz to test your understandings. Don't worry! You will not need to re-read every questions and answers but GPT will help you generate a short quiz based on all the topics you asked it above! The only thing you may do is to ask GPT this prompt:\n",
        "\n",
        "`You are going to take on the role of an excellent python coding tutor. I'm a beginner learning to program in python. Based on all the topics asked above, build up a quick quiz with 10 or more questions to test my understandings`\n",
        "\n",
        "GPT will collect all the topics you asked and quickly give a short quiz to answer. You can always ask it to explain the right answer to deeper understand the topic."
      ],
      "metadata": {
        "id": "dyWb6TBe4p6U"
      }
    },
    {
      "cell_type": "markdown",
      "metadata": {
        "id": "43-_He4OGmPc"
      },
      "source": [
        "## **Appendix**\n"
      ]
    },
    {
      "cell_type": "markdown",
      "source": [
        "### What is IPython?\n",
        "* An interactive command shell for multiple programming languages\n",
        "* Originally developed for Python\n",
        "* Similar to the standard Python shell but more interactive\n",
        "\n",
        "### What is Jupyter Notebook?\n",
        "* An open-source web application that allows you to create, save and share documents (Notebooks) that contain live code, equations, visualizations and simple text called Markdown\n",
        "* Jupyter Notebook can run multiple languages (including Python and R)\n",
        "* Compatibile to kernels for many programming languages (currently 49 in total)\n",
        "* Default Kernel is IPython\n",
        "### What is the Anaconda Distribution?\n",
        "* Open-source distribution for programming languages (Python and R) and tools used for data science and machine learning\n",
        "* Tools include Jupyter notebook, IPython shell, standard Python shell, rstudio and spyder (an advanced IDE for Python)\n",
        "\n",
        "### Download & Installation\n",
        "#### Anaconda\n",
        "Latest releases - Anaconda 5.3.1\n",
        "* Download at https://www.anaconda.com/download/\n",
        "* Select the right operating system (Windows, Mac or Linux)\n",
        "\n",
        "#### Jupyter Notebook\n",
        "* Install Jupyter Notebook by **installing Anaconda**\n",
        " * Anaconda installs Jupyter Notebook alongside Python, IPython and other commonly used packages for scientific computing and data science\n",
        " * Highly recommended for new users\n",
        "\n",
        "* Installing stand alone Jupyter **via command line**\n",
        " * For more experienced Python users\n",
        " * **Prerequisite:** Python 3.3 or greater, or Python 2.7 and **pip**\n",
        " * Open Command Prompt for Windows or Terminal for Mac or Linux\n",
        " * Type the following command<br>\n",
        "   Python 2 - **pip install jupyter**<br>\n",
        "   Python 3 - **pip3 install jupyter**\n",
        "   \n",
        "### Starting Jupyter Notebook\n",
        "* Via Anaconda (Recommended for new users)\n",
        " * Open the **Anaconda Navigator** program on your computer and search for the Jupyter Notebook icon\n",
        " * Jupyter Notebook can also be started directly from the program menu\n",
        "* Start Jupyter via command line (Experienced users)\n",
        " * Open Command Prompt for Windows or Terminal for Mac or Linux\n",
        " * Type the command<br>\n",
        "   **jupyter notebook**\n",
        "\n",
        "### Exploring the Jupyter Interface\n",
        "#### 'Files' tab\n",
        "* Navigate to the folder from which you want to work\n",
        "* Create new Python Notebooks, scripts with Text File, folders or Terminals\n",
        "![image.png](attachment:image.png)\n",
        "#### 'Running' tab\n",
        "* Monitor currently running Terminals and Notebooks\n",
        "#### New Text Files/Scripts\n",
        "* New scripts are used to save python scripts or programs\n",
        "* New scripts are saved in the current folder path\n",
        "* Change the Language to python and rename the file with a **'.py'** extension\n",
        "#### New Python Notebooks\n",
        "* A notebook allows you to create, save and share documents that contain live code\n",
        "* New Notebooks are saved in the current folder path as a .ipynb extension\n",
        "* You may rename the notebook\n",
        "* To add python code, select **'Code'** in the dropdown\n",
        " * Hit **Enter** to add another line in the current cell\n",
        " * Hit **Control-Enter** or click **Run** executes the code in a cell. This will automatically add a new cell below\n",
        "* To add normal text as narrative to the notebook, select **'Markdown'** or **'Heading'** in the dropdown\n",
        " * Go to this link for more on Markdowns - https://github.com/adam-p/markdown-here/wiki/Markdown-Cheatsheet"
      ],
      "metadata": {
        "id": "3O-OCXcx4kKO"
      }
    },
    {
      "cell_type": "markdown",
      "metadata": {
        "id": "1Dxo8BNkGmPc"
      },
      "source": [
        "## Advanced and Future Topics\n",
        "* Error Handling and Exceptions\n",
        "* List Comprehensions\n",
        "* Regular Expressions\n",
        "* Database Access\n",
        "* Multithreading\n",
        "\n",
        "## Resources\n",
        "* CEAS Library Python resources - http://guides.libraries.uc.edu/python\n",
        "* Online links & tutorials\n",
        " * Python documentation - https://www.python.org/doc/\n",
        " * Python Programming wiki book - http://en.wikibooks.org/wiki/Python_Programming\n",
        " * Python tutorials - Udemy, Code academy, etc\n",
        " * Tutorials Point - https://www.tutorialspoint.com/python"
      ]
    },
    {
      "cell_type": "markdown",
      "metadata": {
        "id": "Zwb859xhGmPc"
      },
      "source": [
        "# $\\;\\;\\;\\;\\;\\;\\;\\;\\;\\;\\;\\;\\;\\;\\;\\;\\;\\;\\;\\;\\;\\;\\;\\;\\;\\;\\;\\;\\;\\;\\;\\;\\;$Questions ??\n",
        "\n",
        "$\\;\\;\\;\\;\\;\\;\\;\\;\\;\\;\\;\\;\\;\\;\\;\\;\\;\\;\\;\\;\\;\\;\\;\\;\\;\\;\\;\\;\\;\\;\\;\\;\\;\\;\\;\\;\\;\\;\\;\\;\\;\\;\\;\\;\\;\\;\\;\\;\\;\\;\\;\\;\\;\\;\\;\\;\\;\\;$**Thank you for attending the workshop !!**\n",
        "\n",
        "\n",
        "$\\;\\;\\;\\;\\;\\;\\;\\;\\;\\;\\;\\;\\;\\;\\;\\;\\;\\;\\;\\;\\;\\;\\;\\;\\;\\;\\;\\;\\;\\;\\;\\;\\;\\;\\;\\;\\;\\;\\;\\;\\;\\;\\;\\;\\;\\;$**Your kind suggestions/feedbacks are more than welcome**"
      ]
    },
    {
      "cell_type": "markdown",
      "source": [
        "##[**Foundations of Python 3**](https://forms.office.com/r/UXEDnfWyLt)\n",
        "![MicrosoftTeams-image 3.png](data:image/png;base64,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)"
      ],
      "metadata": {
        "id": "C6wBGAOi4vSN"
      }
    }
  ],
  "metadata": {
    "colab": {
      "provenance": []
    },
    "kernelspec": {
      "display_name": "Python 3.10.6 64-bit",
      "language": "python",
      "name": "python3"
    },
    "language_info": {
      "codemirror_mode": {
        "name": "ipython",
        "version": 3
      },
      "file_extension": ".py",
      "mimetype": "text/x-python",
      "name": "python",
      "nbconvert_exporter": "python",
      "pygments_lexer": "ipython3",
      "version": "3.10.6"
    },
    "vscode": {
      "interpreter": {
        "hash": "aee8b7b246df8f9039afb4144a1f6fd8d2ca17a180786b69acc140d282b71a49"
      }
    }
  },
  "nbformat": 4,
  "nbformat_minor": 0
}